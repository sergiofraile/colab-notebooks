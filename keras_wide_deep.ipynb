{
  "nbformat": 4,
  "nbformat_minor": 0,
  "metadata": {
    "colab": {
      "name": "keras-wide-deep.ipynb",
      "version": "0.3.2",
      "provenance": [],
      "include_colab_link": true
    },
    "kernelspec": {
      "display_name": "Python 3",
      "language": "python",
      "name": "python3"
    }
  },
  "cells": [
    {
      "cell_type": "markdown",
      "metadata": {
        "id": "view-in-github",
        "colab_type": "text"
      },
      "source": [
        "<a href=\"https://colab.research.google.com/github/sergiofraile/colab-notebooks/blob/master/keras_wide_deep.ipynb\" target=\"_parent\"><img src=\"https://colab.research.google.com/assets/colab-badge.svg\" alt=\"Open In Colab\"/></a>"
      ]
    },
    {
      "cell_type": "markdown",
      "metadata": {
        "id": "z0tYvVezOcwe",
        "colab_type": "text"
      },
      "source": [
        "To run this model directly in the browser with zero setup, open it in [Colab here](https://colab.research.google.com/github/sararob/keras-wine-model/blob/master/keras-wide-deep.ipynb)."
      ]
    },
    {
      "cell_type": "code",
      "metadata": {
        "id": "frTMl3sShA3P",
        "colab_type": "code",
        "colab": {}
      },
      "source": [
        "from __future__ import absolute_import\n",
        "from __future__ import division\n",
        "from __future__ import print_function"
      ],
      "execution_count": 0,
      "outputs": []
    },
    {
      "cell_type": "code",
      "metadata": {
        "id": "V8yrRTKcOcwh",
        "colab_type": "code",
        "colab": {}
      },
      "source": [
        "# Install the latest version of TensorFlow\n",
        "!pip install -q -U tensorflow==1.7.0"
      ],
      "execution_count": 0,
      "outputs": []
    },
    {
      "cell_type": "code",
      "metadata": {
        "id": "783h64rGhA3T",
        "colab_type": "code",
        "outputId": "0599e634-f843-4b09-ed57-011fe3acad84",
        "colab": {
          "base_uri": "https://localhost:8080/",
          "height": 34
        }
      },
      "source": [
        "import itertools\n",
        "import os\n",
        "import math\n",
        "import numpy as np\n",
        "import pandas as pd\n",
        "import tensorflow as tf\n",
        "\n",
        "from sklearn.preprocessing import LabelEncoder\n",
        "from tensorflow import keras\n",
        "layers = keras.layers\n",
        "\n",
        "# This code was tested with TensorFlow v1.7 \n",
        "print(\"You have TensorFlow version\", tf.__version__)"
      ],
      "execution_count": 0,
      "outputs": [
        {
          "output_type": "stream",
          "text": [
            "You have TensorFlow version 1.7.0\n"
          ],
          "name": "stdout"
        }
      ]
    },
    {
      "cell_type": "code",
      "metadata": {
        "id": "fvmP7l6_Ocwp",
        "colab_type": "code",
        "outputId": "5890ae54-df11-4e96-a242-cc1d551d0641",
        "colab": {
          "base_uri": "https://localhost:8080/",
          "height": 51
        }
      },
      "source": [
        "# Get the data: original source is here: https://www.kaggle.com/zynicide/wine-reviews/data\n",
        "URL = \"https://storage.googleapis.com/sara-cloud-ml/wine_data.csv\"\n",
        "path = tf.keras.utils.get_file(URL.split('/')[-1], URL)\n"
      ],
      "execution_count": 0,
      "outputs": [
        {
          "output_type": "stream",
          "text": [
            "Downloading data from https://storage.googleapis.com/sara-cloud-ml/wine_data.csv\n",
            "49790976/49783940 [==============================] - 1s 0us/step\n"
          ],
          "name": "stdout"
        }
      ]
    },
    {
      "cell_type": "code",
      "metadata": {
        "id": "c7te21f7hA3V",
        "colab_type": "code",
        "colab": {}
      },
      "source": [
        "# Convert the data to a Pandas data frame\n",
        "data = pd.read_csv(path)"
      ],
      "execution_count": 0,
      "outputs": []
    },
    {
      "cell_type": "code",
      "metadata": {
        "id": "chAbp3ryhA3X",
        "colab_type": "code",
        "outputId": "e8003fb5-f0a7-4709-ac6e-f94bbfb2958f",
        "colab": {
          "base_uri": "https://localhost:8080/",
          "height": 289
        }
      },
      "source": [
        "# Shuffle the data\n",
        "data = data.sample(frac=1)\n",
        "\n",
        "# Print the first 5 rows\n",
        "data.head()"
      ],
      "execution_count": 0,
      "outputs": [
        {
          "output_type": "execute_result",
          "data": {
            "text/html": [
              "<div>\n",
              "<style scoped>\n",
              "    .dataframe tbody tr th:only-of-type {\n",
              "        vertical-align: middle;\n",
              "    }\n",
              "\n",
              "    .dataframe tbody tr th {\n",
              "        vertical-align: top;\n",
              "    }\n",
              "\n",
              "    .dataframe thead th {\n",
              "        text-align: right;\n",
              "    }\n",
              "</style>\n",
              "<table border=\"1\" class=\"dataframe\">\n",
              "  <thead>\n",
              "    <tr style=\"text-align: right;\">\n",
              "      <th></th>\n",
              "      <th>Unnamed: 0</th>\n",
              "      <th>country</th>\n",
              "      <th>description</th>\n",
              "      <th>designation</th>\n",
              "      <th>points</th>\n",
              "      <th>price</th>\n",
              "      <th>province</th>\n",
              "      <th>region_1</th>\n",
              "      <th>region_2</th>\n",
              "      <th>variety</th>\n",
              "      <th>winery</th>\n",
              "    </tr>\n",
              "  </thead>\n",
              "  <tbody>\n",
              "    <tr>\n",
              "      <th>50822</th>\n",
              "      <td>50822</td>\n",
              "      <td>US</td>\n",
              "      <td>An awkward wine. Smells a little vegetal, and ...</td>\n",
              "      <td>Family Estate Vineyard Private Reserve</td>\n",
              "      <td>82</td>\n",
              "      <td>48.0</td>\n",
              "      <td>California</td>\n",
              "      <td>Santa Lucia Highlands</td>\n",
              "      <td>Central Coast</td>\n",
              "      <td>Pinot Noir</td>\n",
              "      <td>Manzoni</td>\n",
              "    </tr>\n",
              "    <tr>\n",
              "      <th>32472</th>\n",
              "      <td>32472</td>\n",
              "      <td>France</td>\n",
              "      <td>This is a wine with potential. It has weight a...</td>\n",
              "      <td>NaN</td>\n",
              "      <td>90</td>\n",
              "      <td>10.0</td>\n",
              "      <td>Bordeaux</td>\n",
              "      <td>Bordeaux</td>\n",
              "      <td>NaN</td>\n",
              "      <td>Bordeaux-style Red Blend</td>\n",
              "      <td>Château Camelot la Chapelle</td>\n",
              "    </tr>\n",
              "    <tr>\n",
              "      <th>30941</th>\n",
              "      <td>30941</td>\n",
              "      <td>France</td>\n",
              "      <td>This structured wine with good weight is full ...</td>\n",
              "      <td>NaN</td>\n",
              "      <td>88</td>\n",
              "      <td>30.0</td>\n",
              "      <td>Burgundy</td>\n",
              "      <td>Savigny-lès-Beaune</td>\n",
              "      <td>NaN</td>\n",
              "      <td>Pinot Noir</td>\n",
              "      <td>Pierre Cornu Camus</td>\n",
              "    </tr>\n",
              "    <tr>\n",
              "      <th>134662</th>\n",
              "      <td>134662</td>\n",
              "      <td>Italy</td>\n",
              "      <td>Made from Vermentino Nero, this unique red rec...</td>\n",
              "      <td>NaN</td>\n",
              "      <td>88</td>\n",
              "      <td>45.0</td>\n",
              "      <td>Tuscany</td>\n",
              "      <td>Toscana</td>\n",
              "      <td>NaN</td>\n",
              "      <td>Vermentino Nero</td>\n",
              "      <td>Cima</td>\n",
              "    </tr>\n",
              "    <tr>\n",
              "      <th>10303</th>\n",
              "      <td>10303</td>\n",
              "      <td>US</td>\n",
              "      <td>The sweet smell of campfire meets with bacon f...</td>\n",
              "      <td>Solomon Hills Vineyard</td>\n",
              "      <td>94</td>\n",
              "      <td>50.0</td>\n",
              "      <td>California</td>\n",
              "      <td>Santa Maria Valley</td>\n",
              "      <td>Central Coast</td>\n",
              "      <td>Pinot Noir</td>\n",
              "      <td>Landmark</td>\n",
              "    </tr>\n",
              "  </tbody>\n",
              "</table>\n",
              "</div>"
            ],
            "text/plain": [
              "        Unnamed: 0 country                                        description  \\\n",
              "50822        50822      US  An awkward wine. Smells a little vegetal, and ...   \n",
              "32472        32472  France  This is a wine with potential. It has weight a...   \n",
              "30941        30941  France  This structured wine with good weight is full ...   \n",
              "134662      134662   Italy  Made from Vermentino Nero, this unique red rec...   \n",
              "10303        10303      US  The sweet smell of campfire meets with bacon f...   \n",
              "\n",
              "                                   designation  points  price    province  \\\n",
              "50822   Family Estate Vineyard Private Reserve      82   48.0  California   \n",
              "32472                                      NaN      90   10.0    Bordeaux   \n",
              "30941                                      NaN      88   30.0    Burgundy   \n",
              "134662                                     NaN      88   45.0     Tuscany   \n",
              "10303                   Solomon Hills Vineyard      94   50.0  California   \n",
              "\n",
              "                     region_1       region_2                   variety  \\\n",
              "50822   Santa Lucia Highlands  Central Coast                Pinot Noir   \n",
              "32472                Bordeaux            NaN  Bordeaux-style Red Blend   \n",
              "30941      Savigny-lès-Beaune            NaN                Pinot Noir   \n",
              "134662                Toscana            NaN           Vermentino Nero   \n",
              "10303      Santa Maria Valley  Central Coast                Pinot Noir   \n",
              "\n",
              "                             winery  \n",
              "50822                       Manzoni  \n",
              "32472   Château Camelot la Chapelle  \n",
              "30941            Pierre Cornu Camus  \n",
              "134662                         Cima  \n",
              "10303                      Landmark  "
            ]
          },
          "metadata": {
            "tags": []
          },
          "execution_count": 6
        }
      ]
    },
    {
      "cell_type": "code",
      "metadata": {
        "id": "PBvXifGAOcww",
        "colab_type": "code",
        "colab": {}
      },
      "source": [
        "# Do some preprocessing to limit the # of wine varities in the dataset\n",
        "data = data[pd.notnull(data['country'])]\n",
        "data = data[pd.notnull(data['price'])]\n",
        "data = data.drop(data.columns[0], axis=1) \n",
        "\n",
        "variety_threshold = 500 # Anything that occurs less than this will be removed.\n",
        "value_counts = data['variety'].value_counts()\n",
        "to_remove = value_counts[value_counts <= variety_threshold].index\n",
        "data.replace(to_remove, np.nan, inplace=True)\n",
        "data = data[pd.notnull(data['variety'])]"
      ],
      "execution_count": 0,
      "outputs": []
    },
    {
      "cell_type": "code",
      "metadata": {
        "id": "h_SDal0khA3n",
        "colab_type": "code",
        "outputId": "e6c311e5-c674-4cf2-f2dc-d6ceabfa6f83",
        "colab": {}
      },
      "source": [
        "# Split data into train and test\n",
        "train_size = int(len(data) * .8)\n",
        "print (\"Train size: %d\" % train_size)\n",
        "print (\"Test size: %d\" % (len(data) - train_size))"
      ],
      "execution_count": 0,
      "outputs": [
        {
          "output_type": "stream",
          "text": [
            "Train size: 95646\n",
            "Test size: 23912\n"
          ],
          "name": "stdout"
        }
      ]
    },
    {
      "cell_type": "code",
      "metadata": {
        "id": "anD38iilhA3r",
        "colab_type": "code",
        "outputId": "ac871fe4-c5a9-4d21-dbd3-0a90d3a01328",
        "colab": {
          "base_uri": "https://localhost:8080/",
          "height": 232
        }
      },
      "source": [
        "# Train features\n",
        "description_train = data['description'][:train_size]\n",
        "variety_train = data['variety'][:train_size]\n",
        "\n",
        "# Train labels\n",
        "labels_train = data['price'][:train_size]\n",
        "\n",
        "# Test features\n",
        "description_test = data['description'][train_size:]\n",
        "variety_test = data['variety'][train_size:]\n",
        "\n",
        "# Test labels\n",
        "labels_test = data['price'][train_size:]"
      ],
      "execution_count": 0,
      "outputs": [
        {
          "output_type": "error",
          "ename": "NameError",
          "evalue": "ignored",
          "traceback": [
            "\u001b[0;31m---------------------------------------------------------------------------\u001b[0m",
            "\u001b[0;31mNameError\u001b[0m                                 Traceback (most recent call last)",
            "\u001b[0;32m<ipython-input-9-f5c3c5a246f0>\u001b[0m in \u001b[0;36m<module>\u001b[0;34m()\u001b[0m\n\u001b[0;32m----> 1\u001b[0;31m \u001b[0mdescription_train\u001b[0m \u001b[0;34m=\u001b[0m \u001b[0mdata\u001b[0m\u001b[0;34m[\u001b[0m\u001b[0;34m'description'\u001b[0m\u001b[0;34m]\u001b[0m\u001b[0;34m[\u001b[0m\u001b[0;34m:\u001b[0m\u001b[0mtrain_size\u001b[0m\u001b[0;34m]\u001b[0m\u001b[0;34m\u001b[0m\u001b[0m\n\u001b[0m\u001b[1;32m      2\u001b[0m \u001b[0mvariety_train\u001b[0m \u001b[0;34m=\u001b[0m \u001b[0mdata\u001b[0m\u001b[0;34m[\u001b[0m\u001b[0;34m'variety'\u001b[0m\u001b[0;34m]\u001b[0m\u001b[0;34m[\u001b[0m\u001b[0;34m:\u001b[0m\u001b[0mtrain_size\u001b[0m\u001b[0;34m]\u001b[0m\u001b[0;34m\u001b[0m\u001b[0m\n\u001b[1;32m      3\u001b[0m \u001b[0;34m\u001b[0m\u001b[0m\n\u001b[1;32m      4\u001b[0m \u001b[0;31m# Train labels\u001b[0m\u001b[0;34m\u001b[0m\u001b[0;34m\u001b[0m\u001b[0m\n\u001b[1;32m      5\u001b[0m \u001b[0mlabels_train\u001b[0m \u001b[0;34m=\u001b[0m \u001b[0mdata\u001b[0m\u001b[0;34m[\u001b[0m\u001b[0;34m'price'\u001b[0m\u001b[0;34m]\u001b[0m\u001b[0;34m[\u001b[0m\u001b[0;34m:\u001b[0m\u001b[0mtrain_size\u001b[0m\u001b[0;34m]\u001b[0m\u001b[0;34m\u001b[0m\u001b[0m\n",
            "\u001b[0;31mNameError\u001b[0m: name 'train_size' is not defined"
          ]
        }
      ]
    },
    {
      "cell_type": "code",
      "metadata": {
        "id": "z4GblctFhA3u",
        "colab_type": "code",
        "colab": {}
      },
      "source": [
        "# Create a tokenizer to preprocess our text descriptions\n",
        "vocab_size = 12000 # This is a hyperparameter, experiment with different values for your dataset\n",
        "tokenize = keras.preprocessing.text.Tokenizer(num_words=vocab_size, char_level=False)\n",
        "tokenize.fit_on_texts(description_train) # only fit on train"
      ],
      "execution_count": 0,
      "outputs": []
    },
    {
      "cell_type": "code",
      "metadata": {
        "id": "YatMLCKXhA3x",
        "colab_type": "code",
        "colab": {}
      },
      "source": [
        "# Wide feature 1: sparse bag of words (bow) vocab_size vector \n",
        "description_bow_train = tokenize.texts_to_matrix(description_train)\n",
        "description_bow_test = tokenize.texts_to_matrix(description_test)"
      ],
      "execution_count": 0,
      "outputs": []
    },
    {
      "cell_type": "code",
      "metadata": {
        "id": "8quTsErLhA3z",
        "colab_type": "code",
        "colab": {}
      },
      "source": [
        "# Wide feature 2: one-hot vector of variety categories\n",
        "\n",
        "# Use sklearn utility to convert label strings to numbered index\n",
        "encoder = LabelEncoder()\n",
        "encoder.fit(variety_train)\n",
        "variety_train = encoder.transform(variety_train)\n",
        "variety_test = encoder.transform(variety_test)\n",
        "num_classes = np.max(variety_train) + 1\n",
        "\n",
        "# Convert labels to one hot\n",
        "variety_train = keras.utils.to_categorical(variety_train, num_classes)\n",
        "variety_test = keras.utils.to_categorical(variety_test, num_classes)"
      ],
      "execution_count": 0,
      "outputs": []
    },
    {
      "cell_type": "code",
      "metadata": {
        "id": "KlFHf7K8OcxA",
        "colab_type": "code",
        "colab": {}
      },
      "source": [
        "# Define our wide model with the functional API\n",
        "bow_inputs = layers.Input(shape=(vocab_size,))\n",
        "variety_inputs = layers.Input(shape=(num_classes,))\n",
        "merged_layer = layers.concatenate([bow_inputs, variety_inputs])\n",
        "merged_layer = layers.Dense(256, activation='relu')(merged_layer)\n",
        "predictions = layers.Dense(1)(merged_layer)\n",
        "wide_model = keras.Model(inputs=[bow_inputs, variety_inputs], outputs=predictions)"
      ],
      "execution_count": 0,
      "outputs": []
    },
    {
      "cell_type": "code",
      "metadata": {
        "id": "JmgcNUD-OcxD",
        "colab_type": "code",
        "outputId": "8fb71372-e40f-4c2b-a77b-f88e9c4341ec",
        "colab": {}
      },
      "source": [
        "wide_model.compile(loss='mse', optimizer='adam', metrics=['accuracy'])\n",
        "print(wide_model.summary())"
      ],
      "execution_count": 0,
      "outputs": [
        {
          "output_type": "stream",
          "text": [
            "__________________________________________________________________________________________________\n",
            "Layer (type)                    Output Shape         Param #     Connected to                     \n",
            "==================================================================================================\n",
            "input_1 (InputLayer)            (None, 12000)        0                                            \n",
            "__________________________________________________________________________________________________\n",
            "input_2 (InputLayer)            (None, 40)           0                                            \n",
            "__________________________________________________________________________________________________\n",
            "concatenate_1 (Concatenate)     (None, 12040)        0           input_1[0][0]                    \n",
            "                                                                 input_2[0][0]                    \n",
            "__________________________________________________________________________________________________\n",
            "dense_1 (Dense)                 (None, 256)          3082496     concatenate_1[0][0]              \n",
            "__________________________________________________________________________________________________\n",
            "dense_2 (Dense)                 (None, 1)            257         dense_1[0][0]                    \n",
            "==================================================================================================\n",
            "Total params: 3,082,753\n",
            "Trainable params: 3,082,753\n",
            "Non-trainable params: 0\n",
            "__________________________________________________________________________________________________\n",
            "None\n"
          ],
          "name": "stdout"
        }
      ]
    },
    {
      "cell_type": "code",
      "metadata": {
        "id": "PigqtYM-OcxH",
        "colab_type": "code",
        "colab": {}
      },
      "source": [
        "# Deep model feature: word embeddings of wine descriptions\n",
        "train_embed = tokenize.texts_to_sequences(description_train)\n",
        "test_embed = tokenize.texts_to_sequences(description_test)\n",
        "\n",
        "max_seq_length = 170\n",
        "train_embed = keras.preprocessing.sequence.pad_sequences(\n",
        "    train_embed, maxlen=max_seq_length, padding=\"post\")\n",
        "test_embed = keras.preprocessing.sequence.pad_sequences(\n",
        "    test_embed, maxlen=max_seq_length, padding=\"post\")"
      ],
      "execution_count": 0,
      "outputs": []
    },
    {
      "cell_type": "code",
      "metadata": {
        "id": "Ix5mxkbqOcxK",
        "colab_type": "code",
        "outputId": "bb96c74e-a7a7-47f8-c10e-4c1566194153",
        "colab": {}
      },
      "source": [
        "# Define our deep model with the Functional API\n",
        "deep_inputs = layers.Input(shape=(max_seq_length,))\n",
        "embedding = layers.Embedding(vocab_size, 8, input_length=max_seq_length)(deep_inputs)\n",
        "embedding = layers.Flatten()(embedding)\n",
        "embed_out = layers.Dense(1)(embedding)\n",
        "deep_model = keras.Model(inputs=deep_inputs, outputs=embed_out)\n",
        "print(deep_model.summary())"
      ],
      "execution_count": 0,
      "outputs": [
        {
          "output_type": "stream",
          "text": [
            "_________________________________________________________________\n",
            "Layer (type)                 Output Shape              Param #   \n",
            "=================================================================\n",
            "input_3 (InputLayer)         (None, 170)               0         \n",
            "_________________________________________________________________\n",
            "embedding_1 (Embedding)      (None, 170, 8)            96000     \n",
            "_________________________________________________________________\n",
            "flatten_1 (Flatten)          (None, 1360)              0         \n",
            "_________________________________________________________________\n",
            "dense_3 (Dense)              (None, 1)                 1361      \n",
            "=================================================================\n",
            "Total params: 97,361\n",
            "Trainable params: 97,361\n",
            "Non-trainable params: 0\n",
            "_________________________________________________________________\n",
            "None\n"
          ],
          "name": "stdout"
        }
      ]
    },
    {
      "cell_type": "code",
      "metadata": {
        "id": "JTH3-cgjOcxO",
        "colab_type": "code",
        "colab": {}
      },
      "source": [
        "deep_model.compile(loss='mse',\n",
        "                       optimizer='adam',\n",
        "                       metrics=['accuracy'])"
      ],
      "execution_count": 0,
      "outputs": []
    },
    {
      "cell_type": "code",
      "metadata": {
        "id": "uCPS6GNdOcxP",
        "colab_type": "code",
        "outputId": "4fac5735-6df7-4ae9-ab09-6ff69e04ef42",
        "colab": {}
      },
      "source": [
        "# Combine wide and deep into one model\n",
        "merged_out = layers.concatenate([wide_model.output, deep_model.output])\n",
        "merged_out = layers.Dense(1)(merged_out)\n",
        "combined_model = keras.Model(wide_model.input + [deep_model.input], merged_out)\n",
        "print(combined_model.summary())\n",
        "\n",
        "combined_model.compile(loss='mse',\n",
        "                       optimizer='adam',\n",
        "                       metrics=['accuracy'])"
      ],
      "execution_count": 0,
      "outputs": [
        {
          "output_type": "stream",
          "text": [
            "__________________________________________________________________________________________________\n",
            "Layer (type)                    Output Shape         Param #     Connected to                     \n",
            "==================================================================================================\n",
            "input_1 (InputLayer)            (None, 12000)        0                                            \n",
            "__________________________________________________________________________________________________\n",
            "input_2 (InputLayer)            (None, 40)           0                                            \n",
            "__________________________________________________________________________________________________\n",
            "input_3 (InputLayer)            (None, 170)          0                                            \n",
            "__________________________________________________________________________________________________\n",
            "concatenate_1 (Concatenate)     (None, 12040)        0           input_1[0][0]                    \n",
            "                                                                 input_2[0][0]                    \n",
            "__________________________________________________________________________________________________\n",
            "embedding_1 (Embedding)         (None, 170, 8)       96000       input_3[0][0]                    \n",
            "__________________________________________________________________________________________________\n",
            "dense_1 (Dense)                 (None, 256)          3082496     concatenate_1[0][0]              \n",
            "__________________________________________________________________________________________________\n",
            "flatten_1 (Flatten)             (None, 1360)         0           embedding_1[0][0]                \n",
            "__________________________________________________________________________________________________\n",
            "dense_2 (Dense)                 (None, 1)            257         dense_1[0][0]                    \n",
            "__________________________________________________________________________________________________\n",
            "dense_3 (Dense)                 (None, 1)            1361        flatten_1[0][0]                  \n",
            "__________________________________________________________________________________________________\n",
            "concatenate_2 (Concatenate)     (None, 2)            0           dense_2[0][0]                    \n",
            "                                                                 dense_3[0][0]                    \n",
            "__________________________________________________________________________________________________\n",
            "dense_4 (Dense)                 (None, 1)            3           concatenate_2[0][0]              \n",
            "==================================================================================================\n",
            "Total params: 3,180,117\n",
            "Trainable params: 3,180,117\n",
            "Non-trainable params: 0\n",
            "__________________________________________________________________________________________________\n",
            "None\n"
          ],
          "name": "stdout"
        }
      ]
    },
    {
      "cell_type": "code",
      "metadata": {
        "id": "gtP-hDRZhA31",
        "colab_type": "code",
        "outputId": "297f67c0-0671-46e4-c037-bff365ba9742",
        "colab": {}
      },
      "source": [
        "# Run training\n",
        "combined_model.fit([description_bow_train, variety_train] + [train_embed], labels_train, epochs=10, batch_size=128)"
      ],
      "execution_count": 0,
      "outputs": [
        {
          "output_type": "stream",
          "text": [
            "Epoch 1/10\n",
            "95646/95646 [==============================] - 52s 546us/step - loss: 1165.0368 - acc: 0.0276\n",
            "Epoch 2/10\n",
            "95646/95646 [==============================] - 57s 593us/step - loss: 915.0286 - acc: 0.0352\n",
            "Epoch 3/10\n",
            "95646/95646 [==============================] - 58s 608us/step - loss: 785.9011 - acc: 0.0396\n",
            "Epoch 4/10\n",
            "95646/95646 [==============================] - 56s 590us/step - loss: 668.5673 - acc: 0.0445\n",
            "Epoch 5/10\n",
            "95646/95646 [==============================] - 55s 576us/step - loss: 550.9641 - acc: 0.0483\n",
            "Epoch 6/10\n",
            "95646/95646 [==============================] - 55s 571us/step - loss: 440.3762 - acc: 0.0563\n",
            "Epoch 7/10\n",
            "95646/95646 [==============================] - 57s 594us/step - loss: 342.1391 - acc: 0.0651\n",
            "Epoch 8/10\n",
            "95646/95646 [==============================] - 59s 615us/step - loss: 260.5558 - acc: 0.0734\n",
            "Epoch 9/10\n",
            "95646/95646 [==============================] - 55s 579us/step - loss: 199.9219 - acc: 0.0853\n",
            "Epoch 10/10\n",
            "95646/95646 [==============================] - 57s 601us/step - loss: 152.7983 - acc: 0.0962\n"
          ],
          "name": "stdout"
        },
        {
          "output_type": "execute_result",
          "data": {
            "text/plain": [
              "<tensorflow.python.keras._impl.keras.callbacks.History at 0x1230ef6a0>"
            ]
          },
          "metadata": {
            "tags": []
          },
          "execution_count": 18
        }
      ]
    },
    {
      "cell_type": "code",
      "metadata": {
        "id": "F7cCJKY_OcxY",
        "colab_type": "code",
        "outputId": "31ba01e8-d9c8-49a3-88a3-704c2709a3a9",
        "colab": {}
      },
      "source": [
        "combined_model.evaluate([description_bow_test, variety_test] + [test_embed], labels_test, batch_size=128)"
      ],
      "execution_count": 0,
      "outputs": [
        {
          "output_type": "stream",
          "text": [
            "23912/23912 [==============================] - 6s 252us/step\n"
          ],
          "name": "stdout"
        },
        {
          "output_type": "execute_result",
          "data": {
            "text/plain": [
              "[583.1852051067129, 0.06461191035036899]"
            ]
          },
          "metadata": {
            "tags": []
          },
          "execution_count": 19
        }
      ]
    },
    {
      "cell_type": "code",
      "metadata": {
        "id": "f000lYoxhA4F",
        "colab_type": "code",
        "colab": {}
      },
      "source": [
        "# Generate predictions\n",
        "predictions = combined_model.predict([description_bow_test, variety_test] + [test_embed])"
      ],
      "execution_count": 0,
      "outputs": []
    },
    {
      "cell_type": "code",
      "metadata": {
        "id": "JBGG6tUsOcxc",
        "colab_type": "code",
        "outputId": "06c2c422-44c1-4ac4-f689-ffc1d7a92be3",
        "colab": {}
      },
      "source": [
        "# Compare predictions with actual values for the first few items in our test dataset\n",
        "num_predictions = 40\n",
        "diff = 0\n",
        "\n",
        "for i in range(num_predictions):\n",
        "    val = predictions[i]\n",
        "    print(description_test.iloc[i])\n",
        "    print('Predicted: ', val[0], 'Actual: ', labels_test.iloc[i], '\\n')\n",
        "    diff += abs(val[0] - labels_test.iloc[i])"
      ],
      "execution_count": 0,
      "outputs": [
        {
          "output_type": "stream",
          "text": [
            "Not a whole lot to say about the soft, flat nose. It's o.k., but that's really about it. The palate, meanwhile, turns sweet, nearly to the point of candied. And the finish is downright sugary. Decent weight and feel help it along.\n",
            "Predicted:  16.776217 Actual:  14.0 \n",
            "\n",
            "This 70-30 blend of Chardonnay and Trebbiano is driven by a strong mineral vein that imparts dusty notes of slate, vitamin and granite over fuller aromas of exotic fruit and peach. The wine is simple and tart in the mouth with a creamy, soft feel overall.\n",
            "Predicted:  19.51367 Actual:  18.0 \n",
            "\n",
            "Light, fresh aromas of tomato and plum are gritty. This feels round for the most part, with rubbery tannins. Medicinal, slightly minty plum and berry flavors end with acceptable rawness and a latex note.\n",
            "Predicted:  21.455168 Actual:  10.0 \n",
            "\n",
            "A densely fruity wine, with berry and plum fruits, pushed by some firm tannins. It is the ripe fruit, brimming over the glass, that makes this wine so delicious and approachable now.\n",
            "Predicted:  25.588463 Actual:  17.0 \n",
            "\n",
            "Wild, briary, brambly and semi-sweet from this hot vintage, this is a Zin made for easy drinking with roasts and cheeses. It's a big, hot wine, with some raisiny flavors mixed in with the cherries and spices.\n",
            "Predicted:  30.262243 Actual:  38.0 \n",
            "\n",
            "The nose of this Chard is so lively and welcoming with accents of lilac, jasmine, white peach slices and clementine. Matured in barrel for 10 months, the wine's palate offers more intense, mature flavors of peaches and cream, ginger and supporting tropical acidity. Well structured with a defined and evolving finish, it takes you from citrus to fresh peach to vanilla wooded spice.\n",
            "Predicted:  13.833609 Actual:  15.0 \n",
            "\n",
            "Full bodied with a velvety heft on the palate, this Reserve Merlot from Hudson-Chatham offers a striking balance of intensity and elegance. From the nose to the palate, there's a bounty of rich dark fruit, bramble and smoke layered with silky oak and firm tannins.\n",
            "Predicted:  18.991003 Actual:  22.0 \n",
            "\n",
            "Cranberry, Bing cherry and red plum flavors dominate the fruit profile, enlivened by a bright spice note. The tannins turn quite chalky and drying, which lessens the pleasure of the finish.\n",
            "Predicted:  11.892209 Actual:  19.0 \n",
            "\n",
            "A wine that is all about crispness, structure and bright fruits. The creamy texture from lees aging gives a rounder dimension, but the main thrust here is minerality coupled with delicious acidity.\n",
            "Predicted:  28.631481 Actual:  20.0 \n",
            "\n",
            "At its best Rubicon stuns with power and richness. In lesser vintages (which are usually hotter ones) the wine, which is largely Cabernet Sauvignon, can be raisiny. While 2004 was a warm year, diligent viticulture paid off, resulting in an opulent wine with the purest expression of crushed cherries and blackberries, and oak-inspired hints of nougat and caramel. Fairly aggressive in tannins now, it should begin to open by 2008 and drink well for a decade.\n",
            "Predicted:  262.89868 Actual:  125.0 \n",
            "\n",
            "A bit unripe, with a slight vegetal intrusion into the blackberries and cherries. Teeter-totters just on the edge of ripeness, but falls short. Otherwise, the tannins are pretty, and the oak is deftly applied.\n",
            "Predicted:  48.683483 Actual:  50.0 \n",
            "\n",
            "A good everyday wine. It's dry, full-bodied and has enough berry-cherry flavors to get by, wrapped into a smooth texture.\n",
            "Predicted:  9.694958 Actual:  10.0 \n",
            "\n",
            "Combines dusky peach and passion fruit aromas and flavors in a wine that's a bit softer and sweeter-tasting than many Marlborough Sauvignon Blancs, yet still carries a refreshing touch of acid on the finish. Imported by New Zealand Wine Imports.\n",
            "Predicted:  17.764606 Actual:  17.0 \n",
            "\n",
            "A light-pink color is backed by a simple nose that's nondescript but fresh and clean. A slightly foamy but firm palate isn't all that deep or rich, while mild grapefruit and blood orange flavors finish steady.\n",
            "Predicted:  12.843844 Actual:  12.0 \n",
            "\n",
            "A nice, clean, attractive version of affordable Carmenère? Yep, that's what Odfjell delivers pretty much every year with its Armador bottling. Aromas are floral, minerally and deep, and so is the palate, which is pure, spicy and loaded with blackberry fruit. Smooth on the finish, too. One of Chile's best value-priced Carmenères.\n",
            "Predicted:  15.080006 Actual:  12.0 \n",
            "\n",
            "Plum, red berry, cinnamon and mint aromas give this savory-style red from Lebanon a serious start. Soft and elegant on the palate but with a touch of spice and lively acid, the wine is balanced and unfolding, and will pair well with dishes that offer complex spice. An interesting red with exotic appeal.\n",
            "Predicted:  30.442371 Actual:  50.0 \n",
            "\n",
            "Powerful vanilla scents rise from the glass, but the fruit, even in this difficult vintage, comes out immediately. It's tart and sharp, with a strong herbal component, and the wine snaps into focus quickly with fruit, acid, tannin, herb and vanilla in equal proportion. Firm and tight, still quite young, this wine needs decanting and/or further bottle age to show its best.\n",
            "Predicted:  46.233624 Actual:  45.0 \n",
            "\n",
            "The bouquet delivers touches of graphite and rubber in front of traditional dried cherry and raspberry. Nice in the mouth, with softly fading fruit riding a wave of persistent acids and tannins. Snappy, old-school and succulent. Drink now through 2010.\n",
            "Predicted:  24.337423 Actual:  26.0 \n",
            "\n",
            "Oak powers the nose on this entry-level bottling from the Ballard Canyon-based winery, with peach custard, cinnamon and other brown spices. It's wide and ripe on the palate at first, with cooked Meyer lemons, nectarine and pineapple, but also boasts a line of brisker acidity trending toward lime.\n",
            "Predicted:  25.915466 Actual:  24.0 \n",
            "\n",
            "Shows plenty of weight on the palate, but also an overall lack of intensity to its slightly vegetal—green pea—flavors. Still, there's enough passion fruit and grapefruit to provide a sense of balance and a crisp, clean finish.\n",
            "Predicted:  16.476027 Actual:  11.0 \n",
            "\n",
            "Fresh, vivid fruit flavors pop from this light-colored, well-balanced, mouthwatering wine. Ripe pear, crisp apple and a touch of baking spices mingle on the palate and linger on the finish.\n",
            "Predicted:  16.757448 Actual:  16.0 \n",
            "\n",
            "Dark mineral, toasted French oak and black fruit carry the nose. This is a sturdy, nicely made high-end Rioja, but due to the heat of the year its range of flavors is narrow as it settles on baked plum and molasses. Medium long on the finish, with a lasting taste of chocolate.\n",
            "Predicted:  81.83065 Actual:  100.0 \n",
            "\n",
            "This medium-bodied dry Riesling is nicely balanced between apple and lime, with hints of petrol and spice to bring home its Rieslingness. Drink now for the vibrance and freshness of the fruit, but it should age well for at least a few years.\n",
            "Predicted:  15.825063 Actual:  18.0 \n",
            "\n",
            "Pretty good, but a little on the rustic side, with baked blackberry, cherry and currant flavors wrapped into some rugged, edgy tannins. Could just be going through an awkward phase, but its future is hard to predict.\n",
            "Predicted:  26.417683 Actual:  40.0 \n",
            "\n",
            "Quite woody for this weight class, with balsam shavings and berry aromas that are distant. Chewy, lactic and creamy across the tongue, with a flavor profile that brings chocolate and berry syrup flavors. Finishes with a final wave of oaky spice and bitterness; good but needs more fruit.\n",
            "Predicted:  13.144117 Actual:  15.0 \n",
            "\n",
            "From an organic, dry farmed vineyard, this wine is as feral as the forest—a study in wild boar, wildflowers and dried herbs. Bright acidity buoys that meaty quality in the form of tart rhubarb and strawberry tea flavors. Floral on the nose and palate, it's spicy too, with bold seasonings of clove and pepper.\n",
            "Predicted:  67.539925 Actual:  95.0 \n",
            "\n",
            "This is a very enjoyable Chardonnay from Friuli in northeastern Italy with vibrant luminosity and fresh tones of stone fruit, yellow rose and honey. The mouthfeel is naturally creamy but the wine ends on a bright, crisp note.\n",
            "Predicted:  17.144892 Actual:  16.0 \n",
            "\n",
            "A powerful, fat, still young wine, full of yeast flavors, green apples, plums and with a fine, tight structure—this is a food wine that could certainly age, maybe over 3 to 4 years.\n",
            "Predicted:  25.042484 Actual:  23.0 \n",
            "\n",
            "Past its prime, with herbal, leafy notes dominating the nectarine and melon fruit. Soft and even a bit sweet, with a chalky finish.\n",
            "Predicted:  16.498108 Actual:  15.0 \n",
            "\n",
            "Soft, creamy and buttery, this will surely please those who like a banana cream pie style of Chardonnay. There's peaches in there too, and papaya—a lot of ripe fruit, nicely matched to the oak flavors. Drink now.\n",
            "Predicted:  26.30731 Actual:  24.0 \n",
            "\n",
            "Putting your nose into a glass of Oddero Barolo Villero is like sniffing a handful of Langhe soil. This wine speaks highly of its territory with aromas of smoke, earth, forest berry, white truffle, hazelnut, cola, root beer, humus and dried apple skins. In the mouth, the tannins are impressively polished and fine.\n",
            "Predicted:  60.76769 Actual:  65.0 \n",
            "\n",
            "A reasonably good buy in vintage Port, Silval is something of a second label for Quinta do Noval. It's less concentrated and suppler in the mouth than its sister wine, but still boasts compelling floral aromas allied to prune, berry and chocolate flavors. Worth trying a bottle before 2010.\n",
            "Predicted:  44.748398 Actual:  37.0 \n",
            "\n",
            "Rustic tomato and cherry aromas make for a scratchy opening. This is wiry and grating in feel, with sour plum and red-currant flavors. A fresh but scratchy and herbal tasting finish isn't exactly friendly.\n",
            "Predicted:  10.840133 Actual:  13.0 \n",
            "\n",
            "Fragrant and spicy, this opens with green pepper notes and boatloads of prickly/brambly raspberry/strawberry fruit. From a cool vintage, the blend includes 15% Syrah. It's nicely handled, with great penetration and a dancer's precision.\n",
            "Predicted:  27.572311 Actual:  25.0 \n",
            "\n",
            "This is a cheerful, agreeable wine, with loose-knit fruit flavors of strawberry and sweet cranberry, interwoven with generous streaks of butter and toast. Drink up.\n",
            "Predicted:  20.560844 Actual:  15.0 \n",
            "\n",
            "This terroir-driven Pinot, from the Oregon side of the Columbia River, shows a dramatically different profile than the Willamette Valley Pinots commonly associated with the state. Kudos to winemaker Peter Rosback for finding great Pinot all over Oregon. This unique vineyard shows classic varietal fruit laced with mineral, kissed with toast, and finished with delicious mocha flavors from new oak barrels. The tart, tangy spine keeps it balanced and extends the fruit flavors well into a long, crisp finish.\n",
            "Predicted:  38.203552 Actual:  42.0 \n",
            "\n",
            "Here's a modern, round and velvety Barolo (from Monforte d'Alba) that will appeal to those who love a thick and juicy style of wine. The aromas include lavender, allspice, cinnamon, white chocolate and vanilla. Tart berry flavors backed by crisp acidity and firm tannins give the mouthfeel determination and grit.\n",
            "Predicted:  41.028854 Actual:  49.0 \n",
            "\n",
            "Jammy and simple, with ripe cherry, blackberry and pepper flavors. Nothing terribly complex, but an easy everyday Zin at a decent price.\n",
            "Predicted:  9.812495 Actual:  11.0 \n",
            "\n",
            "Made in a sweeter, more candied style, with lemon, pineapple and vanilla flavors, although crisp acidity provides much needed and drying balance. But it's still a fairly simple sipper.\n",
            "Predicted:  19.652079 Actual:  21.0 \n",
            "\n",
            "It's obvious from the alcohol that the Merlot here was very ripe. But, happily, it doesn't taste that way. The balance of rich raisin and red plum flavors are well balanced by acidity. There is some smokiness from wood, the ripeness finishing freshly with a black cherry taste.\n",
            "Predicted:  41.17104 Actual:  26.0 \n",
            "\n"
          ],
          "name": "stdout"
        }
      ]
    },
    {
      "cell_type": "code",
      "metadata": {
        "id": "zgb1DxA9Ocxh",
        "colab_type": "code",
        "outputId": "5a57332c-5e92-4192-f8b2-828854c3ec99",
        "colab": {}
      },
      "source": [
        "# Compare the average difference between actual price and the model's predicted price\n",
        "print('Average prediction difference: ', diff / num_predictions)"
      ],
      "execution_count": 0,
      "outputs": [
        {
          "output_type": "stream",
          "text": [
            "Average prediction difference:  8.719513726234435\n"
          ],
          "name": "stdout"
        }
      ]
    }
  ]
}