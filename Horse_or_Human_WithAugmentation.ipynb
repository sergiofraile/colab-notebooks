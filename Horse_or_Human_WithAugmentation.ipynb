{
  "nbformat": 4,
  "nbformat_minor": 0,
  "metadata": {
    "colab": {
      "name": "Horse-or-Human-WithAugmentation.ipynb",
      "version": "0.3.2",
      "provenance": [],
      "collapsed_sections": [],
      "include_colab_link": true
    },
    "kernelspec": {
      "name": "python3",
      "display_name": "Python 3"
    },
    "accelerator": "GPU"
  },
  "cells": [
    {
      "cell_type": "markdown",
      "metadata": {
        "id": "view-in-github",
        "colab_type": "text"
      },
      "source": [
        "<a href=\"https://colab.research.google.com/github/sergiofraile/colab-notebooks/blob/master/Horse_or_Human_WithAugmentation.ipynb\" target=\"_parent\"><img src=\"https://colab.research.google.com/assets/colab-badge.svg\" alt=\"Open In Colab\"/></a>"
      ]
    },
    {
      "cell_type": "code",
      "metadata": {
        "colab_type": "code",
        "id": "RXZT2UsyIVe_",
        "outputId": "a71d9ca1-e44e-4402-b4ae-96ec7cde4411",
        "colab": {
          "base_uri": "https://localhost:8080/",
          "height": 386
        }
      },
      "source": [
        "!wget --no-check-certificate \\\n",
        "    https://storage.googleapis.com/laurencemoroney-blog.appspot.com/horse-or-human.zip \\\n",
        "    -O /tmp/horse-or-human.zip\n",
        "\n",
        "!wget --no-check-certificate \\\n",
        "    https://storage.googleapis.com/laurencemoroney-blog.appspot.com/validation-horse-or-human.zip \\\n",
        "    -O /tmp/validation-horse-or-human.zip\n",
        "  \n",
        "import os\n",
        "import zipfile\n",
        "\n",
        "local_zip = '/tmp/horse-or-human.zip'\n",
        "zip_ref = zipfile.ZipFile(local_zip, 'r')\n",
        "zip_ref.extractall('/tmp/horse-or-human')\n",
        "local_zip = '/tmp/validation-horse-or-human.zip'\n",
        "zip_ref = zipfile.ZipFile(local_zip, 'r')\n",
        "zip_ref.extractall('/tmp/validation-horse-or-human')\n",
        "zip_ref.close()\n",
        "# Directory with our training horse pictures\n",
        "train_horse_dir = os.path.join('/tmp/horse-or-human/horses')\n",
        "\n",
        "# Directory with our training human pictures\n",
        "train_human_dir = os.path.join('/tmp/horse-or-human/humans')\n",
        "\n",
        "# Directory with our training horse pictures\n",
        "validation_horse_dir = os.path.join('/tmp/validation-horse-or-human/horses')\n",
        "\n",
        "# Directory with our training human pictures\n",
        "validation_human_dir = os.path.join('/tmp/validation-horse-or-human/humans')"
      ],
      "execution_count": 0,
      "outputs": [
        {
          "output_type": "stream",
          "text": [
            "--2019-08-01 06:43:26--  https://storage.googleapis.com/laurencemoroney-blog.appspot.com/horse-or-human.zip\n",
            "Resolving storage.googleapis.com (storage.googleapis.com)... 74.125.20.128, 2607:f8b0:400e:c03::80\n",
            "Connecting to storage.googleapis.com (storage.googleapis.com)|74.125.20.128|:443... connected.\n",
            "HTTP request sent, awaiting response... 200 OK\n",
            "Length: 149574867 (143M) [application/zip]\n",
            "Saving to: ‘/tmp/horse-or-human.zip’\n",
            "\n",
            "/tmp/horse-or-human 100%[===================>] 142.65M  65.3MB/s    in 2.2s    \n",
            "\n",
            "2019-08-01 06:43:29 (65.3 MB/s) - ‘/tmp/horse-or-human.zip’ saved [149574867/149574867]\n",
            "\n",
            "--2019-08-01 06:43:30--  https://storage.googleapis.com/laurencemoroney-blog.appspot.com/validation-horse-or-human.zip\n",
            "Resolving storage.googleapis.com (storage.googleapis.com)... 108.177.98.128, 2607:f8b0:400e:c09::80\n",
            "Connecting to storage.googleapis.com (storage.googleapis.com)|108.177.98.128|:443... connected.\n",
            "HTTP request sent, awaiting response... 200 OK\n",
            "Length: 11480187 (11M) [application/zip]\n",
            "Saving to: ‘/tmp/validation-horse-or-human.zip’\n",
            "\n",
            "/tmp/validation-hor 100%[===================>]  10.95M  29.9MB/s    in 0.4s    \n",
            "\n",
            "2019-08-01 06:43:30 (29.9 MB/s) - ‘/tmp/validation-horse-or-human.zip’ saved [11480187/11480187]\n",
            "\n"
          ],
          "name": "stdout"
        }
      ]
    },
    {
      "cell_type": "markdown",
      "metadata": {
        "colab_type": "text",
        "id": "5oqBkNBJmtUv"
      },
      "source": [
        "## Building a Small Model from Scratch\n",
        "\n",
        "But before we continue, let's start defining the model:\n",
        "\n",
        "Step 1 will be to import tensorflow."
      ]
    },
    {
      "cell_type": "code",
      "metadata": {
        "id": "qvfZg3LQbD-5",
        "colab_type": "code",
        "colab": {}
      },
      "source": [
        "import tensorflow as tf"
      ],
      "execution_count": 0,
      "outputs": []
    },
    {
      "cell_type": "markdown",
      "metadata": {
        "colab_type": "text",
        "id": "BnhYCP4tdqjC"
      },
      "source": [
        "We then add convolutional layers as in the previous example, and flatten the final result to feed into the densely connected layers."
      ]
    },
    {
      "cell_type": "markdown",
      "metadata": {
        "id": "gokG5HKpdtzm",
        "colab_type": "text"
      },
      "source": [
        "Finally we add the densely connected layers. \n",
        "\n",
        "Note that because we are facing a two-class classification problem, i.e. a *binary classification problem*, we will end our network with a [*sigmoid* activation](https://wikipedia.org/wiki/Sigmoid_function), so that the output of our network will be a single scalar between 0 and 1, encoding the probability that the current image is class 1 (as opposed to class 0)."
      ]
    },
    {
      "cell_type": "code",
      "metadata": {
        "id": "PixZ2s5QbYQ3",
        "colab_type": "code",
        "outputId": "bd34bc4a-e5b5-4bc6-95c5-60650675253a",
        "colab": {
          "base_uri": "https://localhost:8080/",
          "height": 104
        }
      },
      "source": [
        "model = tf.keras.models.Sequential([\n",
        "    # Note the input shape is the desired size of the image 300x300 with 3 bytes color\n",
        "    # This is the first convolution\n",
        "    tf.keras.layers.Conv2D(16, (3,3), activation='relu', input_shape=(300, 300, 3)),\n",
        "    tf.keras.layers.MaxPooling2D(2, 2),\n",
        "    # The second convolution\n",
        "    tf.keras.layers.Conv2D(32, (3,3), activation='relu'),\n",
        "    tf.keras.layers.MaxPooling2D(2,2),\n",
        "    # The third convolution\n",
        "    tf.keras.layers.Conv2D(64, (3,3), activation='relu'),\n",
        "    tf.keras.layers.MaxPooling2D(2,2),\n",
        "    # The fourth convolution\n",
        "    tf.keras.layers.Conv2D(64, (3,3), activation='relu'),\n",
        "    tf.keras.layers.MaxPooling2D(2,2),\n",
        "    # The fifth convolution\n",
        "    tf.keras.layers.Conv2D(64, (3,3), activation='relu'),\n",
        "    tf.keras.layers.MaxPooling2D(2,2),\n",
        "    # Flatten the results to feed into a DNN\n",
        "    tf.keras.layers.Flatten(),\n",
        "    # 512 neuron hidden layer\n",
        "    tf.keras.layers.Dense(512, activation='relu'),\n",
        "    # Only 1 output neuron. It will contain a value from 0-1 where 0 for 1 class ('horses') and 1 for the other ('humans')\n",
        "    tf.keras.layers.Dense(1, activation='sigmoid')\n",
        "])"
      ],
      "execution_count": 0,
      "outputs": [
        {
          "output_type": "stream",
          "text": [
            "WARNING: Logging before flag parsing goes to stderr.\n",
            "W0801 06:43:46.238547 140597420013440 deprecation.py:506] From /usr/local/lib/python3.6/dist-packages/tensorflow/python/ops/init_ops.py:1251: calling VarianceScaling.__init__ (from tensorflow.python.ops.init_ops) with dtype is deprecated and will be removed in a future version.\n",
            "Instructions for updating:\n",
            "Call initializer instance with the dtype argument instead of passing it to the constructor\n"
          ],
          "name": "stderr"
        }
      ]
    },
    {
      "cell_type": "code",
      "metadata": {
        "colab_type": "code",
        "id": "8DHWhFP_uhq3",
        "outputId": "777f83f4-aabc-4323-9997-d5e662f50af3",
        "colab": {
          "base_uri": "https://localhost:8080/",
          "height": 87
        }
      },
      "source": [
        "from tensorflow.keras.optimizers import RMSprop\n",
        "\n",
        "model.compile(loss='binary_crossentropy',\n",
        "              optimizer=RMSprop(lr=1e-4),\n",
        "              metrics=['acc'])"
      ],
      "execution_count": 0,
      "outputs": [
        {
          "output_type": "stream",
          "text": [
            "W0801 06:43:49.380876 140597420013440 deprecation.py:323] From /usr/local/lib/python3.6/dist-packages/tensorflow/python/ops/nn_impl.py:180: add_dispatch_support.<locals>.wrapper (from tensorflow.python.ops.array_ops) is deprecated and will be removed in a future version.\n",
            "Instructions for updating:\n",
            "Use tf.where in 2.0, which has the same broadcast rule as np.where\n"
          ],
          "name": "stderr"
        }
      ]
    },
    {
      "cell_type": "code",
      "metadata": {
        "colab_type": "code",
        "id": "ClebU9NJg99G",
        "outputId": "76c61d55-3575-414d-c086-3c005d6b9dd5",
        "colab": {
          "base_uri": "https://localhost:8080/",
          "height": 50
        }
      },
      "source": [
        "from tensorflow.keras.preprocessing.image import ImageDataGenerator\n",
        "\n",
        "# All images will be rescaled by 1./255\n",
        "train_datagen = ImageDataGenerator(\n",
        "      rescale=1./255,\n",
        "      rotation_range=40,\n",
        "      width_shift_range=0.2,\n",
        "      height_shift_range=0.2,\n",
        "      shear_range=0.2,\n",
        "      zoom_range=0.2,\n",
        "      horizontal_flip=True,\n",
        "      fill_mode='nearest')\n",
        "\n",
        "validation_datagen = ImageDataGenerator(rescale=1/255)\n",
        "\n",
        "# Flow training images in batches of 128 using train_datagen generator\n",
        "train_generator = train_datagen.flow_from_directory(\n",
        "        '/tmp/horse-or-human/',  # This is the source directory for training images\n",
        "        target_size=(300, 300),  # All images will be resized to 150x150\n",
        "        batch_size=128,\n",
        "        # Since we use binary_crossentropy loss, we need binary labels\n",
        "        class_mode='binary')\n",
        "\n",
        "# Flow training images in batches of 128 using train_datagen generator\n",
        "validation_generator = validation_datagen.flow_from_directory(\n",
        "        '/tmp/validation-horse-or-human/',  # This is the source directory for training images\n",
        "        target_size=(300, 300),  # All images will be resized to 150x150\n",
        "        batch_size=32,\n",
        "        # Since we use binary_crossentropy loss, we need binary labels\n",
        "        class_mode='binary')"
      ],
      "execution_count": 0,
      "outputs": [
        {
          "output_type": "stream",
          "text": [
            "Found 1027 images belonging to 2 classes.\n",
            "Found 256 images belonging to 2 classes.\n"
          ],
          "name": "stdout"
        }
      ]
    },
    {
      "cell_type": "code",
      "metadata": {
        "colab_type": "code",
        "id": "Fb1_lgobv81m",
        "outputId": "53daea52-b92d-4106-eba2-a7a301c7b374",
        "colab": {
          "base_uri": "https://localhost:8080/",
          "height": 1000
        }
      },
      "source": [
        "history = model.fit_generator(\n",
        "      train_generator,\n",
        "      steps_per_epoch=8,  \n",
        "      epochs=100,\n",
        "      verbose=1,\n",
        "      validation_data = validation_generator,\n",
        "      validation_steps=8)"
      ],
      "execution_count": 0,
      "outputs": [
        {
          "output_type": "stream",
          "text": [
            "Epoch 1/100\n",
            "8/8 [==============================] - 20s 3s/step - loss: 0.1789 - acc: 0.9199 - val_loss: 2.0505 - val_acc: 0.6328\n",
            "Epoch 2/100\n",
            "8/8 [==============================] - 19s 2s/step - loss: 0.2563 - acc: 0.9344 - val_loss: 3.9149 - val_acc: 0.5078\n",
            "Epoch 3/100\n",
            "8/8 [==============================] - 19s 2s/step - loss: 0.1977 - acc: 0.9143 - val_loss: 2.1286 - val_acc: 0.6055\n",
            "Epoch 4/100\n",
            "8/8 [==============================] - 19s 2s/step - loss: 0.1526 - acc: 0.9388 - val_loss: 1.7614 - val_acc: 0.6289\n",
            "Epoch 5/100\n",
            "8/8 [==============================] - 21s 3s/step - loss: 0.1486 - acc: 0.9414 - val_loss: 2.8908 - val_acc: 0.5586\n",
            "Epoch 6/100\n",
            "8/8 [==============================] - 19s 2s/step - loss: 0.1125 - acc: 0.9522 - val_loss: 1.8025 - val_acc: 0.6562\n",
            "Epoch 7/100\n",
            "8/8 [==============================] - 20s 3s/step - loss: 0.3030 - acc: 0.9110 - val_loss: 2.0690 - val_acc: 0.6094\n",
            "Epoch 8/100\n",
            "8/8 [==============================] - 19s 2s/step - loss: 0.1231 - acc: 0.9555 - val_loss: 2.8111 - val_acc: 0.5820\n",
            "Epoch 9/100\n",
            "8/8 [==============================] - 19s 2s/step - loss: 0.1520 - acc: 0.9399 - val_loss: 1.9925 - val_acc: 0.6328\n",
            "Epoch 10/100\n",
            "8/8 [==============================] - 19s 2s/step - loss: 0.1120 - acc: 0.9577 - val_loss: 2.5229 - val_acc: 0.6016\n",
            "Epoch 11/100\n",
            "8/8 [==============================] - 21s 3s/step - loss: 0.1409 - acc: 0.9414 - val_loss: 3.1798 - val_acc: 0.5703\n",
            "Epoch 12/100\n",
            "8/8 [==============================] - 16s 2s/step - loss: 0.2118 - acc: 0.9264 - val_loss: 0.4626 - val_acc: 0.8594\n",
            "Epoch 13/100\n",
            "8/8 [==============================] - 22s 3s/step - loss: 0.2716 - acc: 0.9131 - val_loss: 2.6523 - val_acc: 0.5820\n",
            "Epoch 14/100\n",
            "8/8 [==============================] - 19s 2s/step - loss: 0.1080 - acc: 0.9511 - val_loss: 2.8925 - val_acc: 0.5781\n",
            "Epoch 15/100\n",
            "8/8 [==============================] - 19s 2s/step - loss: 0.1729 - acc: 0.9266 - val_loss: 1.9602 - val_acc: 0.6406\n",
            "Epoch 16/100\n",
            "8/8 [==============================] - 16s 2s/step - loss: 0.1020 - acc: 0.9587 - val_loss: 2.7006 - val_acc: 0.5898\n",
            "Epoch 17/100\n",
            "8/8 [==============================] - 22s 3s/step - loss: 0.1005 - acc: 0.9727 - val_loss: 3.7610 - val_acc: 0.5352\n",
            "Epoch 18/100\n",
            "8/8 [==============================] - 19s 2s/step - loss: 0.1248 - acc: 0.9410 - val_loss: 3.8484 - val_acc: 0.5312\n",
            "Epoch 19/100\n",
            "8/8 [==============================] - 19s 2s/step - loss: 0.1618 - acc: 0.9333 - val_loss: 3.5564 - val_acc: 0.5234\n",
            "Epoch 20/100\n",
            "8/8 [==============================] - 19s 2s/step - loss: 0.1032 - acc: 0.9611 - val_loss: 2.6586 - val_acc: 0.6133\n",
            "Epoch 21/100\n",
            "8/8 [==============================] - 19s 2s/step - loss: 0.1102 - acc: 0.9555 - val_loss: 3.6636 - val_acc: 0.5430\n",
            "Epoch 22/100\n",
            "8/8 [==============================] - 19s 2s/step - loss: 0.1356 - acc: 0.9422 - val_loss: 3.1033 - val_acc: 0.5859\n",
            "Epoch 23/100\n",
            "8/8 [==============================] - 21s 3s/step - loss: 0.0831 - acc: 0.9756 - val_loss: 3.9976 - val_acc: 0.5352\n",
            "Epoch 24/100\n",
            "8/8 [==============================] - 16s 2s/step - loss: 0.2057 - acc: 0.9289 - val_loss: 2.5791 - val_acc: 0.6016\n",
            "Epoch 25/100\n",
            "8/8 [==============================] - 22s 3s/step - loss: 0.1096 - acc: 0.9600 - val_loss: 2.6170 - val_acc: 0.6094\n",
            "Epoch 26/100\n",
            "8/8 [==============================] - 19s 2s/step - loss: 0.1239 - acc: 0.9566 - val_loss: 3.7993 - val_acc: 0.5352\n",
            "Epoch 27/100\n",
            "8/8 [==============================] - 19s 2s/step - loss: 0.1246 - acc: 0.9477 - val_loss: 2.8603 - val_acc: 0.5977\n",
            "Epoch 28/100\n",
            "8/8 [==============================] - 19s 2s/step - loss: 0.0908 - acc: 0.9588 - val_loss: 3.6334 - val_acc: 0.5703\n",
            "Epoch 29/100\n",
            "8/8 [==============================] - 19s 2s/step - loss: 0.1624 - acc: 0.9255 - val_loss: 3.0650 - val_acc: 0.5859\n",
            "Epoch 30/100\n",
            "8/8 [==============================] - 19s 2s/step - loss: 0.0871 - acc: 0.9633 - val_loss: 2.7100 - val_acc: 0.6133\n",
            "Epoch 31/100\n",
            "8/8 [==============================] - 19s 2s/step - loss: 0.0968 - acc: 0.9644 - val_loss: 3.0382 - val_acc: 0.6016\n",
            "Epoch 32/100\n",
            "8/8 [==============================] - 19s 2s/step - loss: 0.1429 - acc: 0.9422 - val_loss: 3.2221 - val_acc: 0.5703\n",
            "Epoch 33/100\n",
            "8/8 [==============================] - 22s 3s/step - loss: 0.0946 - acc: 0.9697 - val_loss: 3.9841 - val_acc: 0.5508\n",
            "Epoch 34/100\n",
            "8/8 [==============================] - 19s 2s/step - loss: 0.1449 - acc: 0.9355 - val_loss: 4.6325 - val_acc: 0.5078\n",
            "Epoch 35/100\n",
            "8/8 [==============================] - 19s 2s/step - loss: 0.1190 - acc: 0.9555 - val_loss: 3.0685 - val_acc: 0.5898\n",
            "Epoch 36/100\n",
            "8/8 [==============================] - 19s 2s/step - loss: 0.0974 - acc: 0.9566 - val_loss: 3.1602 - val_acc: 0.5938\n",
            "Epoch 37/100\n",
            "8/8 [==============================] - 19s 2s/step - loss: 0.0738 - acc: 0.9722 - val_loss: 3.5564 - val_acc: 0.5898\n",
            "Epoch 38/100\n",
            "8/8 [==============================] - 19s 2s/step - loss: 0.1862 - acc: 0.9132 - val_loss: 2.9067 - val_acc: 0.5898\n",
            "Epoch 39/100\n",
            "8/8 [==============================] - 19s 2s/step - loss: 0.1847 - acc: 0.9344 - val_loss: 3.4060 - val_acc: 0.5703\n",
            "Epoch 40/100\n",
            "8/8 [==============================] - 19s 2s/step - loss: 0.0812 - acc: 0.9700 - val_loss: 3.4172 - val_acc: 0.5781\n",
            "Epoch 41/100\n",
            "8/8 [==============================] - 19s 2s/step - loss: 0.0960 - acc: 0.9633 - val_loss: 2.1402 - val_acc: 0.6406\n",
            "Epoch 42/100\n",
            "8/8 [==============================] - 22s 3s/step - loss: 0.1196 - acc: 0.9502 - val_loss: 3.7559 - val_acc: 0.5508\n",
            "Epoch 43/100\n",
            "8/8 [==============================] - 19s 2s/step - loss: 0.1361 - acc: 0.9455 - val_loss: 1.6496 - val_acc: 0.6797\n",
            "Epoch 44/100\n",
            "8/8 [==============================] - 19s 2s/step - loss: 0.1005 - acc: 0.9566 - val_loss: 3.1973 - val_acc: 0.5859\n",
            "Epoch 45/100\n",
            "8/8 [==============================] - 20s 2s/step - loss: 0.1290 - acc: 0.9633 - val_loss: 2.2427 - val_acc: 0.6133\n",
            "Epoch 46/100\n",
            "8/8 [==============================] - 19s 2s/step - loss: 0.0803 - acc: 0.9666 - val_loss: 4.3603 - val_acc: 0.5117\n",
            "Epoch 47/100\n",
            "8/8 [==============================] - 19s 2s/step - loss: 0.0822 - acc: 0.9700 - val_loss: 4.6930 - val_acc: 0.5078\n",
            "Epoch 48/100\n",
            "8/8 [==============================] - 19s 2s/step - loss: 0.1315 - acc: 0.9466 - val_loss: 3.4178 - val_acc: 0.5859\n",
            "Epoch 49/100\n",
            "8/8 [==============================] - 22s 3s/step - loss: 0.0953 - acc: 0.9580 - val_loss: 4.2746 - val_acc: 0.5312\n",
            "Epoch 50/100\n",
            "8/8 [==============================] - 17s 2s/step - loss: 0.0607 - acc: 0.9703 - val_loss: 3.9823 - val_acc: 0.5703\n",
            "Epoch 51/100\n",
            "8/8 [==============================] - 22s 3s/step - loss: 0.1150 - acc: 0.9463 - val_loss: 4.8317 - val_acc: 0.5078\n",
            "Epoch 52/100\n",
            "8/8 [==============================] - 19s 2s/step - loss: 0.1662 - acc: 0.9288 - val_loss: 3.2734 - val_acc: 0.5938\n",
            "Epoch 53/100\n",
            "8/8 [==============================] - 19s 2s/step - loss: 0.0773 - acc: 0.9622 - val_loss: 4.1066 - val_acc: 0.5625\n",
            "Epoch 54/100\n",
            "8/8 [==============================] - 19s 2s/step - loss: 0.0576 - acc: 0.9855 - val_loss: 3.5629 - val_acc: 0.5859\n",
            "Epoch 55/100\n",
            "8/8 [==============================] - 19s 2s/step - loss: 0.0992 - acc: 0.9633 - val_loss: 4.7924 - val_acc: 0.5156\n",
            "Epoch 56/100\n",
            "8/8 [==============================] - 19s 2s/step - loss: 0.1159 - acc: 0.9488 - val_loss: 4.4967 - val_acc: 0.5312\n",
            "Epoch 57/100\n",
            "8/8 [==============================] - 22s 3s/step - loss: 0.0624 - acc: 0.9785 - val_loss: 4.8348 - val_acc: 0.5273\n",
            "Epoch 58/100\n",
            "8/8 [==============================] - 19s 2s/step - loss: 0.1718 - acc: 0.9266 - val_loss: 3.4761 - val_acc: 0.5898\n",
            "Epoch 59/100\n",
            "8/8 [==============================] - 17s 2s/step - loss: 0.0604 - acc: 0.9742 - val_loss: 4.6478 - val_acc: 0.5469\n",
            "Epoch 60/100\n",
            "8/8 [==============================] - 22s 3s/step - loss: 0.0882 - acc: 0.9707 - val_loss: 3.9873 - val_acc: 0.5664\n",
            "Epoch 61/100\n",
            "8/8 [==============================] - 19s 2s/step - loss: 0.0719 - acc: 0.9755 - val_loss: 3.3450 - val_acc: 0.6016\n",
            "Epoch 62/100\n",
            "8/8 [==============================] - 19s 2s/step - loss: 0.0816 - acc: 0.9689 - val_loss: 3.8859 - val_acc: 0.5820\n",
            "Epoch 63/100\n",
            "8/8 [==============================] - 19s 2s/step - loss: 0.0668 - acc: 0.9778 - val_loss: 5.8374 - val_acc: 0.5078\n",
            "Epoch 64/100\n",
            "8/8 [==============================] - 19s 2s/step - loss: 0.0861 - acc: 0.9666 - val_loss: 4.3262 - val_acc: 0.5703\n",
            "Epoch 65/100\n",
            "8/8 [==============================] - 19s 2s/step - loss: 0.1373 - acc: 0.9366 - val_loss: 2.4797 - val_acc: 0.6641\n",
            "Epoch 66/100\n",
            "8/8 [==============================] - 22s 3s/step - loss: 0.0998 - acc: 0.9619 - val_loss: 3.2119 - val_acc: 0.6172\n",
            "Epoch 67/100\n",
            "8/8 [==============================] - 17s 2s/step - loss: 0.0971 - acc: 0.9574 - val_loss: 4.2848 - val_acc: 0.5625\n",
            "Epoch 68/100\n",
            "8/8 [==============================] - 22s 3s/step - loss: 0.0670 - acc: 0.9736 - val_loss: 3.6870 - val_acc: 0.6094\n",
            "Epoch 69/100\n",
            "8/8 [==============================] - 19s 2s/step - loss: 0.2421 - acc: 0.9266 - val_loss: 2.9624 - val_acc: 0.6172\n",
            "Epoch 70/100\n",
            "8/8 [==============================] - 19s 2s/step - loss: 0.0791 - acc: 0.9633 - val_loss: 3.4146 - val_acc: 0.5977\n",
            "Epoch 71/100\n",
            "8/8 [==============================] - 19s 2s/step - loss: 0.2157 - acc: 0.9544 - val_loss: 2.9343 - val_acc: 0.5938\n",
            "Epoch 72/100\n",
            "8/8 [==============================] - 19s 2s/step - loss: 0.0623 - acc: 0.9844 - val_loss: 3.4229 - val_acc: 0.5859\n",
            "Epoch 73/100\n",
            "8/8 [==============================] - 21s 3s/step - loss: 0.0648 - acc: 0.9766 - val_loss: 4.6573 - val_acc: 0.5195\n",
            "Epoch 74/100\n",
            "8/8 [==============================] - 20s 3s/step - loss: 0.0972 - acc: 0.9566 - val_loss: 3.9982 - val_acc: 0.5703\n",
            "Epoch 75/100\n",
            "8/8 [==============================] - 17s 2s/step - loss: 0.0604 - acc: 0.9793 - val_loss: 2.6846 - val_acc: 0.6289\n",
            "Epoch 76/100\n",
            "8/8 [==============================] - 22s 3s/step - loss: 0.0910 - acc: 0.9668 - val_loss: 1.9813 - val_acc: 0.6836\n",
            "Epoch 77/100\n",
            "8/8 [==============================] - 17s 2s/step - loss: 0.0647 - acc: 0.9677 - val_loss: 2.9759 - val_acc: 0.6211\n",
            "Epoch 78/100\n",
            "8/8 [==============================] - 22s 3s/step - loss: 0.1232 - acc: 0.9521 - val_loss: 3.6194 - val_acc: 0.5742\n",
            "Epoch 79/100\n",
            "8/8 [==============================] - 19s 2s/step - loss: 0.1069 - acc: 0.9611 - val_loss: 3.9757 - val_acc: 0.5781\n",
            "Epoch 80/100\n",
            "8/8 [==============================] - 19s 2s/step - loss: 0.1123 - acc: 0.9666 - val_loss: 2.4658 - val_acc: 0.6211\n",
            "Epoch 81/100\n",
            "8/8 [==============================] - 19s 2s/step - loss: 0.0757 - acc: 0.9733 - val_loss: 3.6137 - val_acc: 0.5820\n",
            "Epoch 82/100\n",
            "8/8 [==============================] - 19s 2s/step - loss: 0.0945 - acc: 0.9633 - val_loss: 2.6114 - val_acc: 0.6328\n",
            "Epoch 83/100\n",
            "8/8 [==============================] - 19s 2s/step - loss: 0.0590 - acc: 0.9789 - val_loss: 3.7032 - val_acc: 0.5859\n",
            "Epoch 84/100\n",
            "8/8 [==============================] - 19s 2s/step - loss: 0.0837 - acc: 0.9633 - val_loss: 3.6197 - val_acc: 0.5820\n",
            "Epoch 85/100\n",
            "8/8 [==============================] - 19s 2s/step - loss: 0.0687 - acc: 0.9722 - val_loss: 4.4866 - val_acc: 0.5586\n",
            "Epoch 86/100\n",
            "8/8 [==============================] - 22s 3s/step - loss: 0.0617 - acc: 0.9785 - val_loss: 3.0910 - val_acc: 0.6211\n",
            "Epoch 87/100\n",
            "8/8 [==============================] - 19s 2s/step - loss: 0.1467 - acc: 0.9499 - val_loss: 3.5320 - val_acc: 0.6016\n",
            "Epoch 88/100\n",
            "8/8 [==============================] - 19s 2s/step - loss: 0.0996 - acc: 0.9711 - val_loss: 4.0082 - val_acc: 0.5781\n",
            "Epoch 89/100\n",
            "8/8 [==============================] - 19s 2s/step - loss: 0.0683 - acc: 0.9789 - val_loss: 3.5759 - val_acc: 0.6133\n",
            "Epoch 90/100\n",
            "8/8 [==============================] - 19s 2s/step - loss: 0.0557 - acc: 0.9800 - val_loss: 3.4692 - val_acc: 0.6172\n",
            "Epoch 91/100\n",
            "8/8 [==============================] - 19s 2s/step - loss: 0.0649 - acc: 0.9733 - val_loss: 3.7514 - val_acc: 0.6094\n",
            "Epoch 92/100\n",
            "8/8 [==============================] - 22s 3s/step - loss: 0.0675 - acc: 0.9785 - val_loss: 4.0160 - val_acc: 0.5820\n",
            "Epoch 93/100\n",
            "8/8 [==============================] - 19s 2s/step - loss: 0.0847 - acc: 0.9711 - val_loss: 4.3858 - val_acc: 0.5703\n",
            "Epoch 94/100\n",
            "8/8 [==============================] - 16s 2s/step - loss: 0.0796 - acc: 0.9522 - val_loss: 3.0159 - val_acc: 0.6250\n",
            "Epoch 95/100\n",
            "8/8 [==============================] - 22s 3s/step - loss: 0.0605 - acc: 0.9814 - val_loss: 4.6057 - val_acc: 0.5703\n",
            "Epoch 96/100\n",
            "8/8 [==============================] - 19s 2s/step - loss: 0.0426 - acc: 0.9844 - val_loss: 4.0418 - val_acc: 0.5938\n",
            "Epoch 97/100\n",
            "8/8 [==============================] - 16s 2s/step - loss: 0.1943 - acc: 0.9341 - val_loss: 4.7772 - val_acc: 0.5586\n",
            "Epoch 98/100\n",
            "8/8 [==============================] - 21s 3s/step - loss: 0.0522 - acc: 0.9805 - val_loss: 4.0465 - val_acc: 0.5859\n",
            "Epoch 99/100\n",
            "8/8 [==============================] - 19s 2s/step - loss: 0.0378 - acc: 0.9833 - val_loss: 4.3404 - val_acc: 0.5742\n",
            "Epoch 100/100\n",
            "8/8 [==============================] - 19s 2s/step - loss: 0.0417 - acc: 0.9822 - val_loss: 6.1730 - val_acc: 0.5195\n"
          ],
          "name": "stdout"
        }
      ]
    },
    {
      "cell_type": "code",
      "metadata": {
        "id": "7zNPRWOVJdOH",
        "colab_type": "code",
        "colab": {}
      },
      "source": [
        "import matplotlib.pyplot as plt\n",
        "acc = history.history['acc']\n",
        "val_acc = history.history['val_acc']\n",
        "loss = history.history['loss']\n",
        "val_loss = history.history['val_loss']\n",
        "\n",
        "epochs = range(len(acc))\n",
        "\n",
        "plt.plot(epochs, acc, 'r', label='Training accuracy')\n",
        "plt.plot(epochs, val_acc, 'b', label='Validation accuracy')\n",
        "plt.title('Training and validation accuracy')\n",
        "\n",
        "plt.figure()\n",
        "\n",
        "plt.plot(epochs, loss, 'r', label='Training Loss')\n",
        "plt.plot(epochs, val_loss, 'b', label='Validation Loss')\n",
        "plt.title('Training and validation loss')\n",
        "plt.legend()\n",
        "\n",
        "plt.show()"
      ],
      "execution_count": 0,
      "outputs": []
    }
  ]
}